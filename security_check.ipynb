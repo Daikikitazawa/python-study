{
  "nbformat": 4,
  "nbformat_minor": 0,
  "metadata": {
    "colab": {
      "provenance": [],
      "authorship_tag": "ABX9TyMRCgPAX34kD3x8Mi5I5n7Q",
      "include_colab_link": true
    },
    "kernelspec": {
      "name": "python3",
      "display_name": "Python 3"
    },
    "language_info": {
      "name": "python"
    }
  },
  "cells": [
    {
      "cell_type": "markdown",
      "metadata": {
        "id": "view-in-github",
        "colab_type": "text"
      },
      "source": [
        "<a href=\"https://colab.research.google.com/github/Daikikitazawa/python-study/blob/main/security_check.ipynb\" target=\"_parent\"><img src=\"https://colab.research.google.com/assets/colab-badge.svg\" alt=\"Open In Colab\"/></a>"
      ]
    },
    {
      "cell_type": "code",
      "source": [
        "# Security Check Template\n",
        "# 作成日：2025/05/06\n",
        "# 更新日：2025/05/07\n",
        "# 内容（古→新）：セキュリティチェックのテンプレ作成／Driveマウント処理の追加\n",
        "\n",
        "# Google Driveへのマウント処理\n",
        "import os\n",
        "from google.colab import drive\n",
        "\n",
        "def safe_mount_drive():\n",
        "    try:\n",
        "        from google.colab import drive\n",
        "        if not os.path.ismount('/content/drive'):\n",
        "            drive.mount('/content/drive')\n",
        "            print(\"✅ Google Driveが正常にマウントされました。\")\n",
        "        else:\n",
        "            print(\"✅ Google Driveは既にマウントされています。\")\n",
        "    except ImportError:\n",
        "        print(\"⚠️ このコードはColab専用です。ローカル環境では不要です。\")\n",
        "safe_mount_drive()\n",
        "\n",
        "# セキュリティチェックの実行\n",
        "import json\n",
        "import re\n",
        "import os\n",
        "\n",
        "def run_security_scan(notebook_path):\n",
        "    \"\"\"\n",
        "    指定したJupyter Notebookファイル内のコード・出力に含まれる\n",
        "    APIキーや個人情報を検出するためのセキュリティチェック関数。\n",
        "    \"\"\"\n",
        "    danger_patterns = {\n",
        "    \"APIキー（OpenAI風）\": r\"sk-[a-zA-Z0-9]{20,}\",\n",
        "    \"APIキー（一般）\": r\"[a-zA-Z0-9_\\-]{32,}\",\n",
        "    \"メールアドレス\": r\"[a-zA-Z0-9_.+-]+@[a-zA-Z0-9-]+\\.[a-zA-Z0-9-.]+\",\n",
        "    \"環境変数風\": r\"(AWS|SECRET|KEY|TOKEN|PASSWORD)[\\w_]*\\s*=\\s*['\\\"].+['\\\"]\",\n",
        "    \"認証ヘッダ\": r\"Authorization:\\s*Bearer\\s+[a-zA-Z0-9\\-_\\.=]+\",\n",
        "    \"電話番号\": r\"(?:\\+81|0)\\d{1,4}[-\\s]?\\d{1,4}[-\\s]?\\d{4}\",\n",
        "    \"OAuth系クレデンシャル\": r\"(client_id|client_secret|refresh_token)\\s*[:=]\\s*['\\\"].{10,}['\\\"]\",\n",
        "    \"パスワード（平文）\": r\"password\\s*[:=]\\s*['\\\"].{6,}['\\\"]\",\n",
        "    \"Slackトークン\": r\"xox[baprs]-[a-zA-Z0-9]{10,48}\",\n",
        "    \"GitHubトークン\": r\"ghp_[A-Za-z0-9]{36}\",\n",
        "    \"AWSアクセスキー\": r\"AKIA[0-9A-Z]{16}\",\n",
        "    \"Slack Webhook URL\": r\"https://hooks\\.slack\\.com/services/[a-zA-Z0-9]+/[a-zA-Z0-9]+/[a-zA-Z0-9]+\"\n",
        "    }\n",
        "\n",
        "    if not os.path.exists(notebook_path):\n",
        "        print(\"❌ 指定したノートブックが見つかりません。パスを確認してください。\")\n",
        "        return\n",
        "\n",
        "    with open(notebook_path, \"r\", encoding=\"utf-8\") as f:\n",
        "        nb = json.load(f)\n",
        "\n",
        "    matches = []\n",
        "    for cell in nb.get(\"cells\", []):\n",
        "        content_blocks = [\"\".join(cell.get(\"source\", []))]\n",
        "        for out in cell.get(\"outputs\", []):\n",
        "            if \"text\" in out:\n",
        "                content_blocks.append(\"\".join(out[\"text\"]))\n",
        "            if \"data\" in out and \"text/plain\" in out[\"data\"]:\n",
        "                content_blocks.append(\"\".join(out[\"data\"][\"text/plain\"]))\n",
        "\n",
        "        for content in content_blocks:\n",
        "            for label, pattern in danger_patterns.items():\n",
        "                for match in re.finditer(pattern, content):\n",
        "                    matches.append((label, match.group().strip()))\n",
        "\n",
        "    if matches:\n",
        "        print(\"🚨 リスクのある情報が検出されました。該当箇所を確認してください。：\\n\")\n",
        "        for label, m in matches:\n",
        "            print(f\"[{label}] {m}\")\n",
        "    else:\n",
        "        print(\"✅ セキュリティリスクは検出されませんでした。\")\n",
        "\n",
        "def scan_multiple_notebooks(notebook_paths):\n",
        "    for path in notebook_paths:\n",
        "        print(f\"\\n🔍 スキャン対象: {path}\")\n",
        "        run_security_scan(path)\n",
        "\n",
        "# 実行例（使うときはパスを変更）\n",
        "if __name__ == \"__main__\":\n",
        "    notebooks = [\n",
        "        \"/content/drive/MyDrive/Colab Notebooks/python_test.ipynb\",\n",
        "        \"/content/drive/MyDrive/Colab Notebooks/python_100practice.ipynb\",\n",
        "        \"/content/drive/MyDrive/Colab Notebooks/security_check.ipynb\"\n",
        "    ]\n",
        "    scan_multiple_notebooks(notebooks)"
      ],
      "metadata": {
        "id": "zmn7kKnP4x1X"
      },
      "execution_count": null,
      "outputs": []
    }
  ]
}